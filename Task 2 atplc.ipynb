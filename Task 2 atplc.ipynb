{
 "cells": [
  {
   "cell_type": "code",
   "execution_count": 1,
   "id": "bea9187a",
   "metadata": {},
   "outputs": [
    {
     "name": "stdout",
     "output_type": "stream",
     "text": [
      "Enter a number: 8\n",
      "The difference is: 9.0\n"
     ]
    }
   ],
   "source": [
    "num = float(input(\"Enter a number: \"))\n",
    "if num > 17:\n",
    "    diff = abs(num - 17) * 2\n",
    "else:\n",
    "    diff = 17 - num\n",
    "print(\"The difference is:\", diff)"
   ]
  },
  {
   "cell_type": "code",
   "execution_count": 2,
   "id": "250ac9ae",
   "metadata": {},
   "outputs": [
    {
     "name": "stdout",
     "output_type": "stream",
     "text": [
      "Enter a Year2028\n",
      "The Year 2028 is a LEAP YEAR\n"
     ]
    }
   ],
   "source": [
    "y=int(input(\"Enter a Year\"))\n",
    "if(y % 400 == 0 or (y % 100 !=0 and y % 4 == 0 )):\n",
    "    print(\"The Year {} is a LEAP YEAR\".format(y))\n",
    "else:\n",
    "    print(\"The Year {} is not a LEAP YEAR\".format(y))"
   ]
  },
  {
   "cell_type": "code",
   "execution_count": 3,
   "id": "0e9011db",
   "metadata": {},
   "outputs": [
    {
     "name": "stdout",
     "output_type": "stream",
     "text": [
      "Enter first integer: 3\n",
      "Enter second integer: 5\n",
      "Enter third integer: 0\n",
      "Sum is 8\n"
     ]
    }
   ],
   "source": [
    "a = int(input(\"Enter first integer: \"))\n",
    "b = int(input(\"Enter second integer: \"))\n",
    "c = int(input(\"Enter third integer: \"))\n",
    "if a == b or b == c or c == a:\n",
    "    print(\"Sum is zero\")\n",
    "else:\n",
    "    sum = a + b + c\n",
    "    print(\"Sum is\", sum)"
   ]
  },
  {
   "cell_type": "code",
   "execution_count": 4,
   "id": "a8fc7d3d",
   "metadata": {},
   "outputs": [
    {
     "name": "stdout",
     "output_type": "stream",
     "text": [
      "Input the name of Month: June\n",
      "No. of days 30 days\n"
     ]
    }
   ],
   "source": [
    "month_name = input(\"Input the name of Month: \")\n",
    "\n",
    "if (month_name == \"February\"):\n",
    "    print(\"No. of days 28/29 days\")\n",
    "elif (month_name in (\"April\", \"June\", \"September\", \"November\")):\n",
    "    print(\"No. of days 30 days\")\n",
    "elif (month_name in (\"January\", \"March\", \"May\", \"July\", \"August\", \"October\", \"December\")):\n",
    "    print(\"No. of days 31 day\")\n",
    "else:\n",
    "    print(\"No such month name exists\")"
   ]
  },
  {
   "cell_type": "code",
   "execution_count": 5,
   "id": "4009b3ab",
   "metadata": {},
   "outputs": [
    {
     "name": "stdout",
     "output_type": "stream",
     "text": [
      "Enter the length of side a: 9\n",
      "Enter the length of side b: 8\n",
      "Enter the length of side c: 9\n",
      "This is an isosceles triangle\n"
     ]
    }
   ],
   "source": [
    "a = float(input(\"Enter the length of side a: \"))\n",
    "b = float(input(\"Enter the length of side b: \"))\n",
    "c = float(input(\"Enter the length of side c: \"))\n",
    "\n",
    "if a == b == c:\n",
    "    print(\"This is an equilateral triangle\")\n",
    "elif a == b or b == c or c == a:\n",
    "    print(\"This is an isosceles triangle\")\n",
    "else:\n",
    "    print(\"This is a scalene triangle\")"
   ]
  },
  {
   "cell_type": "code",
   "execution_count": null,
   "id": "6dff7edf",
   "metadata": {},
   "outputs": [],
   "source": []
  }
 ],
 "metadata": {
  "kernelspec": {
   "display_name": "Python 3 (ipykernel)",
   "language": "python",
   "name": "python3"
  },
  "language_info": {
   "codemirror_mode": {
    "name": "ipython",
    "version": 3
   },
   "file_extension": ".py",
   "mimetype": "text/x-python",
   "name": "python",
   "nbconvert_exporter": "python",
   "pygments_lexer": "ipython3",
   "version": "3.9.12"
  }
 },
 "nbformat": 4,
 "nbformat_minor": 5
}
