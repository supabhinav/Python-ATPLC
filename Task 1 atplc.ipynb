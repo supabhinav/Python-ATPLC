{
 "cells": [
  {
   "cell_type": "code",
   "execution_count": 1,
   "id": "a36b4545",
   "metadata": {},
   "outputs": [
    {
     "name": "stdout",
     "output_type": "stream",
     "text": [
      "Input your first name:Abhinav\n",
      "input your last name:Jha\n",
      "Jha Abhinav\n"
     ]
    }
   ],
   "source": [
    "fname=input(\"Input your first name:\")\n",
    "lname=input(\"input your last name:\")\n",
    "print(lname+\" \"+fname)"
   ]
  },
  {
   "cell_type": "code",
   "execution_count": 2,
   "id": "f614a922",
   "metadata": {},
   "outputs": [
    {
     "name": "stdout",
     "output_type": "stream",
     "text": [
      "Enter the value of n: 9\n",
      "819\n"
     ]
    }
   ],
   "source": [
    "n=int(input(\"Enter the value of n: \"))\n",
    "cal=n+n*n+n**3\n",
    "print(cal)"
   ]
  },
  {
   "cell_type": "code",
   "execution_count": 3,
   "id": "d9000e92",
   "metadata": {},
   "outputs": [
    {
     "name": "stdout",
     "output_type": "stream",
     "text": [
      "Name**Is**James\n"
     ]
    }
   ],
   "source": [
    "a ,b ,c= \"Name\",\"Is\",\"James\"\n",
    "print(a+\"**\"+b+\"**\"+c)"
   ]
  },
  {
   "cell_type": "code",
   "execution_count": 4,
   "id": "80b8d809",
   "metadata": {},
   "outputs": [
    {
     "name": "stdout",
     "output_type": "stream",
     "text": [
      "Enter a number994\n",
      "994.00\n"
     ]
    }
   ],
   "source": [
    "a=float(input(\"Enter a number\"))\n",
    "print(\"%.2f\" %a)\n"
   ]
  },
  {
   "cell_type": "code",
   "execution_count": 6,
   "id": "713d737d",
   "metadata": {},
   "outputs": [
    {
     "name": "stdout",
     "output_type": "stream",
     "text": [
      "Enter three string :Intern at ATPLC\n",
      "Intern\n",
      "at\n",
      "ATPLC\n"
     ]
    }
   ],
   "source": [
    "m,n,o=input(\"Enter three string :\").split()\n",
    "print(m)\n",
    "print(n)\n",
    "print(o)"
   ]
  },
  {
   "cell_type": "code",
   "execution_count": null,
   "id": "49fac6df",
   "metadata": {},
   "outputs": [],
   "source": []
  },
  {
   "cell_type": "code",
   "execution_count": null,
   "id": "b1ee89e7",
   "metadata": {},
   "outputs": [],
   "source": []
  }
 ],
 "metadata": {
  "kernelspec": {
   "display_name": "Python 3 (ipykernel)",
   "language": "python",
   "name": "python3"
  },
  "language_info": {
   "codemirror_mode": {
    "name": "ipython",
    "version": 3
   },
   "file_extension": ".py",
   "mimetype": "text/x-python",
   "name": "python",
   "nbconvert_exporter": "python",
   "pygments_lexer": "ipython3",
   "version": "3.9.12"
  }
 },
 "nbformat": 4,
 "nbformat_minor": 5
}
