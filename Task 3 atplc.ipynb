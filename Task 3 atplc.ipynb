{
 "cells": [
  {
   "cell_type": "code",
   "execution_count": 1,
   "id": "e956b067",
   "metadata": {},
   "outputs": [
    {
     "name": "stdout",
     "output_type": "stream",
     "text": [
      "The smallest number is: 1\n"
     ]
    }
   ],
   "source": [
    "numbers = [4, 6, 2, 8, 5, 1]\n",
    "smallest = numbers[0]\n",
    "for number in numbers:\n",
    "    if number < smallest:\n",
    "        smallest = number\n",
    "print(\"The smallest number is:\", smallest)"
   ]
  },
  {
   "cell_type": "code",
   "execution_count": 3,
   "id": "160db104",
   "metadata": {},
   "outputs": [
    {
     "name": "stdout",
     "output_type": "stream",
     "text": [
      "Enter items in list 12\n",
      "The list is not empty\n"
     ]
    }
   ],
   "source": [
    "li = [int(x) for x in input(\"Enter items in list \").split()]\n",
    "if len(li) != 0:\n",
    "    print(\"The list is not empty\")\n",
    "else:\n",
    "    print(\"The list is empty\")"
   ]
  },
  {
   "cell_type": "code",
   "execution_count": 4,
   "id": "95c11422",
   "metadata": {},
   "outputs": [
    {
     "name": "stdout",
     "output_type": "stream",
     "text": [
      "The lists have at least one common member.\n"
     ]
    }
   ],
   "source": [
    "def have_common_member(list1, list2):\n",
    "    for item in list1:\n",
    "        if item in list2:\n",
    "            return True\n",
    "    return False\n",
    "list1 = [1, 2, 3, 4]\n",
    "list2 = [4, 5, 6, 7]\n",
    "if have_common_member(list1, list2):\n",
    "    print(\"The lists have at least one common member.\")\n",
    "else:\n",
    "    print(\"The lists do not have any common members.\")"
   ]
  },
  {
   "cell_type": "code",
   "execution_count": 7,
   "id": "0189a23e",
   "metadata": {},
   "outputs": [
    {
     "name": "stdout",
     "output_type": "stream",
     "text": [
      "Enter the list 1 items : 9\n",
      "Enter the list 2 items : 0\n",
      "['9', '0']\n"
     ]
    }
   ],
   "source": [
    "list1 = [x for x in input(\"Enter the list 1 items : \").split()]\n",
    "list2 = [x for x in input(\"Enter the list 2 items : \").split()]\n",
    "LIST = list1+list2\n",
    "print(LIST)"
   ]
  },
  {
   "cell_type": "code",
   "execution_count": 8,
   "id": "1a5913dd",
   "metadata": {},
   "outputs": [
    {
     "name": "stdout",
     "output_type": "stream",
     "text": [
      "Original list: [0, 1, 2, 3, 4, 5, 6, 7, 8, 9]\n",
      "Modified list: [1, 2, 3, 6, 7, 8, 9]\n"
     ]
    }
   ],
   "source": [
    "my_list = [0, 1, 2, 3, 4, 5, 6, 7, 8, 9]\n",
    "result_list=[]\n",
    "for i in range (len(my_list)):\n",
    "    if i==0 or i==4 or i==5:\n",
    "        pass\n",
    "    else:\n",
    "        result_list.append(my_list[i])\n",
    "print(\"Original list:\", my_list)\n",
    "print(\"Modified list:\", result_list)"
   ]
  },
  {
   "cell_type": "code",
   "execution_count": 9,
   "id": "8d612899",
   "metadata": {},
   "outputs": [
    {
     "name": "stdout",
     "output_type": "stream",
     "text": [
      "Enter 10 integers :\n",
      "1\n",
      "6\n",
      "5\n",
      "4\n",
      "6\n",
      "9\n",
      "8\n",
      "7\n",
      "4\n",
      "3\n",
      "[3, 4, 7, 8, 9, 6, 4, 5, 6, 1]\n"
     ]
    }
   ],
   "source": [
    "list = []\n",
    "list2 = []\n",
    "print(\"Enter 10 integers :\")\n",
    "for i in range(0, 10):\n",
    "    b = int(input())\n",
    "    list.append(b)\n",
    "list2 = [list[-i] for i in range(1, len(list)+1)]\n",
    "print(list2)\n"
   ]
  },
  {
   "cell_type": "code",
   "execution_count": null,
   "id": "c614697b",
   "metadata": {},
   "outputs": [],
   "source": []
  }
 ],
 "metadata": {
  "kernelspec": {
   "display_name": "Python 3 (ipykernel)",
   "language": "python",
   "name": "python3"
  },
  "language_info": {
   "codemirror_mode": {
    "name": "ipython",
    "version": 3
   },
   "file_extension": ".py",
   "mimetype": "text/x-python",
   "name": "python",
   "nbconvert_exporter": "python",
   "pygments_lexer": "ipython3",
   "version": "3.9.12"
  }
 },
 "nbformat": 4,
 "nbformat_minor": 5
}
